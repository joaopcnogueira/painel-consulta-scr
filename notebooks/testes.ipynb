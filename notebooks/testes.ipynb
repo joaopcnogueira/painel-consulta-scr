{
 "cells": [
  {
   "cell_type": "code",
   "execution_count": 1,
   "metadata": {},
   "outputs": [],
   "source": [
    "from neoscr.core import ConsultaSCR"
   ]
  },
  {
   "cell_type": "code",
   "execution_count": 2,
   "metadata": {},
   "outputs": [
    {
     "name": "stdout",
     "output_type": "stream",
     "text": [
      "Consultando dados para o CPF 052.620.873-29 e CNPJ 35.743.013/0001-35 no mês 6 de 2023\n"
     ]
    }
   ],
   "source": [
    "cnpj = \"35.743.013/0001-35\" \n",
    "cpf = \"052.620.873-29\"\n",
    "data_base = \"06/2023\"\n",
    "mes, ano = int(data_base.split(\"/\")[0]), int(data_base.split(\"/\")[1])\n",
    "print(\"Consultando dados para o CPF {} e CNPJ {} no mês {} de {}\".format(cpf, cnpj, mes, ano))"
   ]
  },
  {
   "cell_type": "code",
   "execution_count": 3,
   "metadata": {},
   "outputs": [
    {
     "name": "stdout",
     "output_type": "stream",
     "text": [
      "File already exist, loading it from /Users/joaonogueira/.neoscr/05262087329_2023_06.json\n",
      "File already exist, loading it from /Users/joaonogueira/.neoscr/35743013000135_2023_06.json\n",
      "Cliente não possui dados no SCR na data-base: 35.743.013/0001-35\n"
     ]
    }
   ],
   "source": [
    "neoscr = ConsultaSCR()\n",
    "\n",
    "df_cpf_traduzido, df_cpf_modalidade, df_cpf_resumo_lista_das_operacoes = neoscr.get_cpf_data(cpf, ano, mes)\n",
    "df_cnpj_traduzido, df_cnpj_modalidade, df_cnpj_resumo_lista_das_operacoes = neoscr.get_cnpj_data(cnpj, ano, mes)"
   ]
  },
  {
   "cell_type": "code",
   "execution_count": null,
   "metadata": {},
   "outputs": [],
   "source": []
  }
 ],
 "metadata": {
  "kernelspec": {
   "display_name": ".venv",
   "language": "python",
   "name": "python3"
  },
  "language_info": {
   "codemirror_mode": {
    "name": "ipython",
    "version": 3
   },
   "file_extension": ".py",
   "mimetype": "text/x-python",
   "name": "python",
   "nbconvert_exporter": "python",
   "pygments_lexer": "ipython3",
   "version": "3.9.16"
  },
  "orig_nbformat": 4
 },
 "nbformat": 4,
 "nbformat_minor": 2
}
